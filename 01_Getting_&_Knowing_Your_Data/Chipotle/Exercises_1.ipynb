{
  "cells": [
    {
      "cell_type": "markdown",
      "metadata": {
        "id": "VQGilIhWf-oz"
      },
      "source": [
        "# Ex2 - Getting and Knowing your Data"
      ]
    },
    {
      "cell_type": "markdown",
      "metadata": {
        "id": "5M1US2U3f-o2"
      },
      "source": [
        "This time we are going to pull data directly from the internet.\n",
        "Special thanks to: https://github.com/justmarkham for sharing the dataset and materials.\n",
        "\n",
        "### Step 1. Import the necessary libraries"
      ]
    },
    {
      "cell_type": "code",
      "execution_count": 1,
      "metadata": {
        "id": "KhO8G5nIf-o3",
        "outputId": "19c9c489-15fd-46f8-a726-9c495c496244",
        "colab": {
          "base_uri": "https://localhost:8080/"
        }
      },
      "outputs": [
        {
          "output_type": "stream",
          "name": "stdout",
          "text": [
            "Requirement already satisfied: pyspark in /usr/local/lib/python3.10/dist-packages (3.5.3)\n",
            "Requirement already satisfied: py4j==0.10.9.7 in /usr/local/lib/python3.10/dist-packages (from pyspark) (0.10.9.7)\n"
          ]
        }
      ],
      "source": [
        "# prompt: import pyspark\n",
        "\n",
        "!pip install pyspark\n",
        "import pyspark\n",
        "from pyspark.sql import SparkSession\n",
        "spark = SparkSession.builder.appName(\"Basics\").getOrCreate()\n",
        "# now you can use spark session\n",
        "# for example to read a csv file into a dataframe\n",
        "# df = spark.read.csv(\"your_file.csv\")\n",
        "\n"
      ]
    },
    {
      "cell_type": "markdown",
      "metadata": {
        "id": "jpstgfkXf-o3"
      },
      "source": [
        "### Step 2. Import the dataset from this [address](https://raw.githubusercontent.com/justmarkham/DAT8/master/data/chipotle.tsv)."
      ]
    },
    {
      "cell_type": "code",
      "source": [
        "from pyspark import SparkFiles\n",
        "url = 'https://raw.githubusercontent.com/justmarkham/DAT8/master/data/chipotle.tsv'\n",
        "spark.sparkContext.addFile(url)\n",
        "\n"
      ],
      "metadata": {
        "id": "96n3rFRpgfmn"
      },
      "execution_count": 5,
      "outputs": []
    },
    {
      "cell_type": "code",
      "source": [
        "%%sh\n",
        "wget https://raw.githubusercontent.com/justmarkham/DAT8/master/data/chipotle.tsv"
      ],
      "metadata": {
        "id": "dUNbSJzih_hd",
        "outputId": "7d086705-db71-4f67-e3d2-d00832c26962",
        "colab": {
          "base_uri": "https://localhost:8080/"
        }
      },
      "execution_count": 8,
      "outputs": [
        {
          "output_type": "stream",
          "name": "stderr",
          "text": [
            "--2024-11-05 18:12:50--  https://raw.githubusercontent.com/justmarkham/DAT8/master/data/chipotle.tsv\n",
            "Resolving raw.githubusercontent.com (raw.githubusercontent.com)... 185.199.109.133, 185.199.111.133, 185.199.110.133, ...\n",
            "Connecting to raw.githubusercontent.com (raw.githubusercontent.com)|185.199.109.133|:443... connected.\n",
            "HTTP request sent, awaiting response... 200 OK\n",
            "Length: 364975 (356K) [text/plain]\n",
            "Saving to: ‘chipotle.tsv’\n",
            "\n",
            "     0K .......... .......... .......... .......... .......... 14% 2.28M 0s\n",
            "    50K .......... .......... .......... .......... .......... 28% 13.8M 0s\n",
            "   100K .......... .......... .......... .......... .......... 42% 6.28M 0s\n",
            "   150K .......... .......... .......... .......... .......... 56% 16.0M 0s\n",
            "   200K .......... .......... .......... .......... .......... 70% 26.4M 0s\n",
            "   250K .......... .......... .......... .......... .......... 84% 8.35M 0s\n",
            "   300K .......... .......... .......... .......... .......... 98% 48.1M 0s\n",
            "   350K ......                                                100%  163M=0.04s\n",
            "\n",
            "2024-11-05 18:12:50 (7.82 MB/s) - ‘chipotle.tsv’ saved [364975/364975]\n",
            "\n"
          ]
        }
      ]
    },
    {
      "cell_type": "code",
      "source": [
        "path  = SparkFiles.get('chipotle.tsv')\n",
        "chipo = spark.read.csv(\"file://\" + path, sep='\\t', header=True)\n",
        "chipo.show()"
      ],
      "metadata": {
        "id": "atSU7ySdh55H",
        "outputId": "03e340d4-6471-436f-a51c-61d4b3ea652b",
        "colab": {
          "base_uri": "https://localhost:8080/"
        }
      },
      "execution_count": 55,
      "outputs": [
        {
          "output_type": "stream",
          "name": "stdout",
          "text": [
            "+--------+--------+--------------------+--------------------+----------+\n",
            "|order_id|quantity|           item_name|  choice_description|item_price|\n",
            "+--------+--------+--------------------+--------------------+----------+\n",
            "|       1|       1|Chips and Fresh T...|                NULL|    $2.39 |\n",
            "|       1|       1|                Izze|        [Clementine]|    $3.39 |\n",
            "|       1|       1|    Nantucket Nectar|             [Apple]|    $3.39 |\n",
            "|       1|       1|Chips and Tomatil...|                NULL|    $2.39 |\n",
            "|       2|       2|        Chicken Bowl|[Tomatillo-Red Ch...|   $16.98 |\n",
            "|       3|       1|        Chicken Bowl|[Fresh Tomato Sal...|   $10.98 |\n",
            "|       3|       1|       Side of Chips|                NULL|    $1.69 |\n",
            "|       4|       1|       Steak Burrito|[Tomatillo Red Ch...|   $11.75 |\n",
            "|       4|       1|    Steak Soft Tacos|[Tomatillo Green ...|    $9.25 |\n",
            "|       5|       1|       Steak Burrito|[Fresh Tomato Sal...|    $9.25 |\n",
            "|       5|       1| Chips and Guacamole|                NULL|    $4.45 |\n",
            "|       6|       1|Chicken Crispy Tacos|[Roasted Chili Co...|    $8.75 |\n",
            "|       6|       1|  Chicken Soft Tacos|[Roasted Chili Co...|    $8.75 |\n",
            "|       7|       1|        Chicken Bowl|[Fresh Tomato Sal...|   $11.25 |\n",
            "|       7|       1| Chips and Guacamole|                NULL|    $4.45 |\n",
            "|       8|       1|Chips and Tomatil...|                NULL|    $2.39 |\n",
            "|       8|       1|     Chicken Burrito|[Tomatillo-Green ...|    $8.49 |\n",
            "|       9|       1|     Chicken Burrito|[Fresh Tomato Sal...|    $8.49 |\n",
            "|       9|       2|         Canned Soda|            [Sprite]|    $2.18 |\n",
            "|      10|       1|        Chicken Bowl|[Tomatillo Red Ch...|    $8.75 |\n",
            "+--------+--------+--------------------+--------------------+----------+\n",
            "only showing top 20 rows\n",
            "\n"
          ]
        }
      ]
    },
    {
      "cell_type": "markdown",
      "metadata": {
        "id": "6y-QofSwf-o4"
      },
      "source": [
        "### Step 3. Assign it to a variable called chipo."
      ]
    },
    {
      "cell_type": "code",
      "execution_count": null,
      "metadata": {
        "id": "89173jM8f-o4"
      },
      "outputs": [],
      "source": []
    },
    {
      "cell_type": "markdown",
      "metadata": {
        "id": "c_pdISPaf-o4"
      },
      "source": [
        "### Step 4. See the first 10 entries"
      ]
    },
    {
      "cell_type": "code",
      "execution_count": 11,
      "metadata": {
        "scrolled": false,
        "id": "n5poeYxef-o5",
        "outputId": "34b95b12-1fa0-426c-e2b7-0d4d7402dfd9",
        "colab": {
          "base_uri": "https://localhost:8080/"
        }
      },
      "outputs": [
        {
          "output_type": "stream",
          "name": "stdout",
          "text": [
            "+--------+--------+--------------------+--------------------+----------+\n",
            "|order_id|quantity|           item_name|  choice_description|item_price|\n",
            "+--------+--------+--------------------+--------------------+----------+\n",
            "|       1|       1|Chips and Fresh T...|                NULL|    $2.39 |\n",
            "|       1|       1|                Izze|        [Clementine]|    $3.39 |\n",
            "|       1|       1|    Nantucket Nectar|             [Apple]|    $3.39 |\n",
            "|       1|       1|Chips and Tomatil...|                NULL|    $2.39 |\n",
            "|       2|       2|        Chicken Bowl|[Tomatillo-Red Ch...|   $16.98 |\n",
            "|       3|       1|        Chicken Bowl|[Fresh Tomato Sal...|   $10.98 |\n",
            "|       3|       1|       Side of Chips|                NULL|    $1.69 |\n",
            "|       4|       1|       Steak Burrito|[Tomatillo Red Ch...|   $11.75 |\n",
            "|       4|       1|    Steak Soft Tacos|[Tomatillo Green ...|    $9.25 |\n",
            "|       5|       1|       Steak Burrito|[Fresh Tomato Sal...|    $9.25 |\n",
            "+--------+--------+--------------------+--------------------+----------+\n",
            "only showing top 10 rows\n",
            "\n"
          ]
        }
      ],
      "source": [
        "chipo.show(10)"
      ]
    },
    {
      "cell_type": "markdown",
      "metadata": {
        "id": "VQ7Uh0Ouf-o5"
      },
      "source": [
        "### Step 5. What is the number of observations in the dataset?"
      ]
    },
    {
      "cell_type": "code",
      "execution_count": 12,
      "metadata": {
        "id": "P_LL451Nf-o5",
        "outputId": "0d8bb770-4571-4e80-ae1a-a5c4c805c233",
        "colab": {
          "base_uri": "https://localhost:8080/"
        }
      },
      "outputs": [
        {
          "output_type": "stream",
          "name": "stdout",
          "text": [
            "4622\n"
          ]
        }
      ],
      "source": [
        "# Solution 1\n",
        "rows = chipo.count()\n",
        "print(rows)\n"
      ]
    },
    {
      "cell_type": "code",
      "execution_count": null,
      "metadata": {
        "id": "Hz2vcS-9f-o6"
      },
      "outputs": [],
      "source": [
        "# Solution 2\n",
        "\n"
      ]
    },
    {
      "cell_type": "markdown",
      "metadata": {
        "id": "JIgxYrhKf-o7"
      },
      "source": [
        "### Step 6. What is the number of columns in the dataset?"
      ]
    },
    {
      "cell_type": "code",
      "execution_count": 13,
      "metadata": {
        "id": "e-nfvnilf-o7",
        "outputId": "6de5b8a7-e99c-4c20-90f4-9d3d3b5f2e5c",
        "colab": {
          "base_uri": "https://localhost:8080/"
        }
      },
      "outputs": [
        {
          "output_type": "stream",
          "name": "stdout",
          "text": [
            "5\n"
          ]
        }
      ],
      "source": [
        "columns = len(chipo.columns)\n",
        "print(columns)"
      ]
    },
    {
      "cell_type": "markdown",
      "metadata": {
        "id": "XdSM7Gm_f-o7"
      },
      "source": [
        "### Step 7. Print the name of all the columns."
      ]
    },
    {
      "cell_type": "code",
      "execution_count": 14,
      "metadata": {
        "id": "dmrGV63Jf-o7",
        "outputId": "12d03d84-72f7-44dd-d20d-be53aedca5e5",
        "colab": {
          "base_uri": "https://localhost:8080/"
        }
      },
      "outputs": [
        {
          "output_type": "stream",
          "name": "stdout",
          "text": [
            "['order_id', 'quantity', 'item_name', 'choice_description', 'item_price']\n"
          ]
        }
      ],
      "source": [
        "column_names = chipo.columns\n",
        "print(column_names)"
      ]
    },
    {
      "cell_type": "markdown",
      "metadata": {
        "id": "7dd4jkfLf-o8"
      },
      "source": [
        "### Step 9. Which was the most-ordered item?"
      ]
    },
    {
      "cell_type": "code",
      "execution_count": 27,
      "metadata": {
        "id": "VAMqMB1Bf-o8",
        "outputId": "fd7c3360-9ccb-40aa-c074-8078638fe318",
        "colab": {
          "base_uri": "https://localhost:8080/"
        }
      },
      "outputs": [
        {
          "output_type": "stream",
          "name": "stdout",
          "text": [
            "+------------+-------------+\n",
            "|   item_name|sum(quantity)|\n",
            "+------------+-------------+\n",
            "|Chicken Bowl|          761|\n",
            "+------------+-------------+\n",
            "\n"
          ]
        }
      ],
      "source": [
        "from pyspark.sql.types import IntegerType\n",
        "chipo = chipo.withColumn(\"quantity\", chipo[\"quantity\"].cast(IntegerType()))\n",
        "most_ordered = chipo.groupBy(\"item_name\").sum('quantity').orderBy('sum(quantity)', ascending=False).limit(1)\n",
        "most_ordered.show()"
      ]
    },
    {
      "cell_type": "markdown",
      "metadata": {
        "id": "-BMWBAasf-o8"
      },
      "source": [
        "### Step 10. For the most-ordered item, how many items were ordered?"
      ]
    },
    {
      "cell_type": "code",
      "execution_count": 36,
      "metadata": {
        "id": "25dMxYBcf-o8",
        "outputId": "fd5ffd82-fcb7-46bb-bed9-f3142c52c5df",
        "colab": {
          "base_uri": "https://localhost:8080/"
        }
      },
      "outputs": [
        {
          "output_type": "stream",
          "name": "stdout",
          "text": [
            "+------------------+-------------+\n",
            "|choice_description|sum(quantity)|\n",
            "+------------------+-------------+\n",
            "|       [Diet Coke]|          159|\n",
            "+------------------+-------------+\n",
            "\n"
          ]
        }
      ],
      "source": [
        "chipo = chipo.withColumn(\"quantity\", chipo[\"quantity\"].cast(IntegerType()))\n",
        "most_ordered = chipo.groupBy(\"choice_description\").sum('quantity').orderBy('sum(quantity)', ascending=False)\n",
        "most_ordered2 = most_ordered.where(~most_ordered['choice_description'].contains('NULL')).limit(1)\n",
        "most_ordered2.show()"
      ]
    },
    {
      "cell_type": "markdown",
      "metadata": {
        "id": "B9lbW6x8f-o8"
      },
      "source": [
        "### Step 11. What was the most ordered item in the choice_description column?"
      ]
    },
    {
      "cell_type": "code",
      "execution_count": null,
      "metadata": {
        "id": "5G2BiJNKf-o8"
      },
      "outputs": [],
      "source": []
    },
    {
      "cell_type": "markdown",
      "metadata": {
        "id": "maEt1_Laf-o9"
      },
      "source": [
        "### Step 12. How many items were orderd in total?"
      ]
    },
    {
      "cell_type": "code",
      "execution_count": 37,
      "metadata": {
        "id": "5arLhvoff-o9",
        "outputId": "74e4da45-1006-4d4f-94e5-ef2c3b6a1e3b",
        "colab": {
          "base_uri": "https://localhost:8080/"
        }
      },
      "outputs": [
        {
          "output_type": "stream",
          "name": "stdout",
          "text": [
            "4972\n"
          ]
        }
      ],
      "source": [
        "total_items = chipo.select('quantity').agg({'quantity': 'sum'}).collect()[0][0]\n",
        "print(total_items)"
      ]
    },
    {
      "cell_type": "markdown",
      "metadata": {
        "id": "BgDaaAYgf-o9"
      },
      "source": [
        "### Step 13. Turn the item price into a float"
      ]
    },
    {
      "cell_type": "code",
      "source": [
        "from pyspark.sql.functions import regexp_replace\n",
        "chipo = chipo.withColumn('item_price', regexp_replace('item_price', '\\\\$', ''))\n",
        "chipo = chipo.withColumn(\"item_price\", chipo[\"item_price\"].cast(\"float\"))\n",
        "chipo.show(10)"
      ],
      "metadata": {
        "id": "Yeuq1geAoZeD",
        "outputId": "b07cd273-f379-4003-ecaf-f4a4a95164c3",
        "colab": {
          "base_uri": "https://localhost:8080/"
        }
      },
      "execution_count": 64,
      "outputs": [
        {
          "output_type": "stream",
          "name": "stdout",
          "text": [
            "+--------+--------+--------------------+--------------------+----------+\n",
            "|order_id|quantity|           item_name|  choice_description|item_price|\n",
            "+--------+--------+--------------------+--------------------+----------+\n",
            "|       1|       1|Ch and Fresh Toma...|                NULL|      2.39|\n",
            "|       1|       1|                Izze|        [Clementine]|      3.39|\n",
            "|       1|       1|    Nantucket Nectar|             [Apple]|      3.39|\n",
            "|       1|       1|Ch and Tomatillo-...|                NULL|      2.39|\n",
            "|       2|       2|        Chicken Bowl|[Tomatillo-Red Ch...|     16.98|\n",
            "|       3|       1|        Chicken Bowl|[Fresh Tomato Sal...|     10.98|\n",
            "|       3|       1|          Side of Ch|                NULL|      1.69|\n",
            "|       4|       1|       Steak Burrito|[Tomatillo Red Ch...|     11.75|\n",
            "|       4|       1|    Steak Soft Tacos|[Tomatillo Green ...|      9.25|\n",
            "|       5|       1|       Steak Burrito|[Fresh Tomato Sal...|      9.25|\n",
            "+--------+--------+--------------------+--------------------+----------+\n",
            "only showing top 10 rows\n",
            "\n"
          ]
        }
      ]
    },
    {
      "cell_type": "markdown",
      "metadata": {
        "id": "UMwTNYHTf-o9"
      },
      "source": [
        "#### Step 13.a. Check the item price type"
      ]
    },
    {
      "cell_type": "code",
      "execution_count": 65,
      "metadata": {
        "id": "ILz1SiXGf-o9",
        "outputId": "a168590d-327a-4174-f441-36d5b6560b7f",
        "colab": {
          "base_uri": "https://localhost:8080/"
        }
      },
      "outputs": [
        {
          "output_type": "stream",
          "name": "stdout",
          "text": [
            "FloatType()\n"
          ]
        }
      ],
      "source": [
        "print(chipo.schema['item_price'].dataType)"
      ]
    },
    {
      "cell_type": "markdown",
      "metadata": {
        "id": "f42TQOzjf-o9"
      },
      "source": [
        "#### Step 13.b. Create a lambda function and change the type of item price"
      ]
    },
    {
      "cell_type": "code",
      "execution_count": null,
      "metadata": {
        "collapsed": true,
        "id": "tt7YtmpPf-o9"
      },
      "outputs": [],
      "source": []
    },
    {
      "cell_type": "markdown",
      "metadata": {
        "id": "7GY-Qk1Zf-o9"
      },
      "source": [
        "#### Step 13.c. Check the item price type"
      ]
    },
    {
      "cell_type": "code",
      "execution_count": null,
      "metadata": {
        "id": "NwGNGg60f-o-"
      },
      "outputs": [],
      "source": []
    },
    {
      "cell_type": "markdown",
      "metadata": {
        "id": "H4UoN9Orf-o-"
      },
      "source": [
        "### Step 14. How much was the revenue for the period in the dataset?"
      ]
    },
    {
      "cell_type": "code",
      "execution_count": 69,
      "metadata": {
        "id": "DeR22J7uf-o-",
        "outputId": "9ac62a54-2869-47df-ea69-4f8397ddb691",
        "colab": {
          "base_uri": "https://localhost:8080/"
        }
      },
      "outputs": [
        {
          "output_type": "stream",
          "name": "stdout",
          "text": [
            "+--------+--------+--------------------+--------------------+----------+------------------+\n",
            "|order_id|quantity|           item_name|  choice_description|item_price|           revenue|\n",
            "+--------+--------+--------------------+--------------------+----------+------------------+\n",
            "|       1|       1|Ch and Fresh Toma...|                NULL|      2.39| 2.390000104904175|\n",
            "|       1|       1|                Izze|        [Clementine]|      3.39| 3.390000104904175|\n",
            "|       1|       1|    Nantucket Nectar|             [Apple]|      3.39| 3.390000104904175|\n",
            "|       1|       1|Ch and Tomatillo-...|                NULL|      2.39| 2.390000104904175|\n",
            "|       2|       2|        Chicken Bowl|[Tomatillo-Red Ch...|     16.98|33.959999084472656|\n",
            "|       3|       1|        Chicken Bowl|[Fresh Tomato Sal...|     10.98|10.979999542236328|\n",
            "|       3|       1|          Side of Ch|                NULL|      1.69| 1.690000057220459|\n",
            "|       4|       1|       Steak Burrito|[Tomatillo Red Ch...|     11.75|             11.75|\n",
            "|       4|       1|    Steak Soft Tacos|[Tomatillo Green ...|      9.25|              9.25|\n",
            "|       5|       1|       Steak Burrito|[Fresh Tomato Sal...|      9.25|              9.25|\n",
            "+--------+--------+--------------------+--------------------+----------+------------------+\n",
            "only showing top 10 rows\n",
            "\n"
          ]
        }
      ],
      "source": [
        "chipo_new = chipo.withColumn('revenue', chipo.quantity * chipo.item_price)\n",
        "chipo_new.show(10)"
      ]
    },
    {
      "cell_type": "code",
      "source": [
        "print(chipo_new.schema['revenue'].dataType)"
      ],
      "metadata": {
        "id": "a3-AFsEVsb-o",
        "outputId": "ea2a23a4-4f7d-4504-f876-6a7291355e44",
        "colab": {
          "base_uri": "https://localhost:8080/"
        }
      },
      "execution_count": 71,
      "outputs": [
        {
          "output_type": "stream",
          "name": "stdout",
          "text": [
            "DoubleType()\n"
          ]
        }
      ]
    },
    {
      "cell_type": "code",
      "source": [
        "revenue = chipo_new.select('revenue').agg({'revenue': 'sum'}).collect()[0][0]\n",
        "print(revenue)"
      ],
      "metadata": {
        "id": "HdKLJJaUsl7h",
        "outputId": "d878ac63-d608-444f-bc05-30faf9432b86",
        "colab": {
          "base_uri": "https://localhost:8080/"
        }
      },
      "execution_count": 72,
      "outputs": [
        {
          "output_type": "stream",
          "name": "stdout",
          "text": [
            "39237.01973223686\n"
          ]
        }
      ]
    },
    {
      "cell_type": "markdown",
      "metadata": {
        "id": "WAo6O0LZf-o-"
      },
      "source": [
        "### Step 15. How many orders were made in the period?"
      ]
    },
    {
      "cell_type": "code",
      "execution_count": 74,
      "metadata": {
        "id": "QDYYxm2wf-o-",
        "outputId": "cf7c7902-b8e1-45bb-dc5b-ac03835795c7",
        "colab": {
          "base_uri": "https://localhost:8080/"
        }
      },
      "outputs": [
        {
          "output_type": "stream",
          "name": "stdout",
          "text": [
            "1834\n"
          ]
        }
      ],
      "source": [
        "distinct_orders = chipo_new.select('order_id').distinct().agg({'order_id': 'count'}).collect()[0][0]\n",
        "print(distinct_orders)"
      ]
    },
    {
      "cell_type": "markdown",
      "metadata": {
        "id": "IzyV_8bFf-o-"
      },
      "source": [
        "### Step 16. What is the average revenue amount per order?"
      ]
    },
    {
      "cell_type": "code",
      "execution_count": 75,
      "metadata": {
        "id": "6hccgQeAf-o-",
        "outputId": "bdb59d6e-8229-464a-bc02-c88531b17d65",
        "colab": {
          "base_uri": "https://localhost:8080/"
        }
      },
      "outputs": [
        {
          "output_type": "stream",
          "name": "stdout",
          "text": [
            "21.39423104265914\n"
          ]
        }
      ],
      "source": [
        "# Solution 1\n",
        "revenue_per_order = revenue / distinct_orders\n",
        "print(revenue_per_order)\n"
      ]
    },
    {
      "cell_type": "code",
      "execution_count": null,
      "metadata": {
        "id": "VcUy12UKf-o-"
      },
      "outputs": [],
      "source": [
        "# Solution 2\n",
        "\n"
      ]
    },
    {
      "cell_type": "markdown",
      "metadata": {
        "id": "Nv989-Bnf-pC"
      },
      "source": [
        "### Step 17. How many different items are sold?"
      ]
    },
    {
      "cell_type": "code",
      "execution_count": 77,
      "metadata": {
        "id": "BWFJzFfBf-pC",
        "outputId": "f4cee584-7924-479a-bcca-28200cf3895f",
        "colab": {
          "base_uri": "https://localhost:8080/"
        }
      },
      "outputs": [
        {
          "output_type": "stream",
          "name": "stdout",
          "text": [
            "50\n"
          ]
        }
      ],
      "source": [
        "distinct_items = chipo_new.select('item_name').distinct().agg({'item_name': 'count'}).collect()[0][0]\n",
        "print(distinct_items)"
      ]
    }
  ],
  "metadata": {
    "anaconda-cloud": {},
    "kernelspec": {
      "display_name": "Python [default]",
      "language": "python",
      "name": "python2"
    },
    "language_info": {
      "codemirror_mode": {
        "name": "ipython",
        "version": 2
      },
      "file_extension": ".py",
      "mimetype": "text/x-python",
      "name": "python",
      "nbconvert_exporter": "python",
      "pygments_lexer": "ipython2",
      "version": "2.7.12"
    },
    "colab": {
      "provenance": []
    }
  },
  "nbformat": 4,
  "nbformat_minor": 0
}